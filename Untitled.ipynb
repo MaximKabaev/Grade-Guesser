{
 "cells": [
  {
   "cell_type": "code",
   "execution_count": 124,
   "id": "279f7467",
   "metadata": {
    "scrolled": true
   },
   "outputs": [
    {
     "data": {
      "text/plain": [
       "0.33076923076923076"
      ]
     },
     "execution_count": 124,
     "metadata": {},
     "output_type": "execute_result"
    }
   ],
   "source": [
    "import pandas as pd\n",
    "from sklearn.tree import DecisionTreeClassifier\n",
    "from sklearn.model_selection import train_test_split\n",
    "from sklearn.preprocessing import OrdinalEncoder\n",
    "from sklearn.preprocessing import LabelEncoder\n",
    "from sklearn.metrics import accuracy_score\n",
    "\n",
    "\n",
    "grades_data = pd.read_csv('datasets/student-por.csv')\n",
    "\n",
    "##ENCODING##\n",
    "\n",
    "le = LabelEncoder()\n",
    "\n",
    "for i in grades_data.columns.values:\n",
    "    if(grades_data[i].dtypes == object):\n",
    "        label = le.fit_transform(grades_data[i])\n",
    "        grades_data.drop(i, axis=1, inplace=True)\n",
    "        grades_data[i] = label\n",
    "\n",
    "X = grades_data.drop(columns=['G3'])\n",
    "y = grades_data['G3']\n",
    "\n",
    "\n",
    "X_train, X_test, y_train, y_test = train_test_split(X, y, test_size=0.2)\n",
    "\n",
    "model = DecisionTreeClassifier()\n",
    "\n",
    "model.fit(X_train, y_train)\n",
    "predictions = model.predict(X_test)\n",
    "\n",
    "score = accuracy_score(y_test, predictions)\n",
    "score"
   ]
  },
  {
   "cell_type": "code",
   "execution_count": null,
   "id": "ba184c49",
   "metadata": {},
   "outputs": [],
   "source": []
  }
 ],
 "metadata": {
  "kernelspec": {
   "display_name": "Python 3 (ipykernel)",
   "language": "python",
   "name": "python3"
  },
  "language_info": {
   "codemirror_mode": {
    "name": "ipython",
    "version": 3
   },
   "file_extension": ".py",
   "mimetype": "text/x-python",
   "name": "python",
   "nbconvert_exporter": "python",
   "pygments_lexer": "ipython3",
   "version": "3.9.13"
  }
 },
 "nbformat": 4,
 "nbformat_minor": 5
}
